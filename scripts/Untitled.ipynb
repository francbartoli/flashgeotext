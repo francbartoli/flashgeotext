{
 "cells": [
  {
   "cell_type": "code",
   "execution_count": 1,
   "metadata": {},
   "outputs": [],
   "source": [
    "from toponym import topodict, case, toponym, utils, settings\n",
    "import logging\n",
    "import os\n",
    "import json\n",
    "\n",
    "logging.basicConfig(level=logging.INFO)\n",
    "logger = logging.getLogger(__name__)\n",
    "\n",
    "%load_ext autoreload\n",
    "%autoreload 2"
   ]
  },
  {
   "cell_type": "code",
   "execution_count": 3,
   "metadata": {},
   "outputs": [
    {
     "name": "stderr",
     "output_type": "stream",
     "text": [
      "INFO:toponym.topodict:Topodictionary loaded for polish\n"
     ]
    }
   ],
   "source": [
    "td = topodict.Topodict(language='polish')\n",
    "td.load()"
   ]
  },
  {
   "cell_type": "code",
   "execution_count": 5,
   "metadata": {},
   "outputs": [
    {
     "name": "stdout",
     "output_type": "stream",
     "text": [
      "\n",
      "Your available languages are:\n",
      "\n",
      "full name\t\tiso code\n",
      "  croatian\t\thr\n",
      "  russian\t\tru\n",
      "  ukrainian\t\tuk\n",
      "  romanian\t\tro\n",
      "  latvian\t\tlv\n",
      "  hungarian\t\thu\n",
      "  greek\t\tel\n",
      "  polish\t\tpl\n",
      "\n"
     ]
    }
   ],
   "source": [
    "utils.print_available_languages()"
   ]
  },
  {
   "cell_type": "code",
   "execution_count": 15,
   "metadata": {},
   "outputs": [
    {
     "name": "stdout",
     "output_type": "stream",
     "text": [
      "defaultdict(<class 'list'>, {'nominative': 'Москва Ломоносовский', 'genitive': ['Москвы Ломоносовского', 'Москвы Ломоносовскего', 'Москви Ломоносовского', 'Москви Ломоносовскего'], 'dative': ['Москве Ломоносовскому', 'Москве Ломоносовскему'], 'accusative': ['Москву Ломоносовского', 'Москву Ломоносовскего', 'Москву Ломоносовской', 'Москву Ломоносовскый', 'Москву Ломоносовский'], 'instrumental': ['Москвой Ломоносовскым', 'Москвой Ломоносовским'], 'prepositional': ['Москве Ломоносовском', 'Москве Ломоносовскем']})\n"
     ]
    }
   ],
   "source": [
    "```python\n",
    "city = \"Москва Ломоносовский\"\n",
    "\n",
    "td = topodict.Topodict(language='russian')\n",
    "td.load()\n",
    "\n",
    "tn = toponym.Toponym(city, td)\n",
    "tn.build()\n",
    "\n",
    "print(tn.topo)\n",
    "\n",
    "{\n",
    "    'nominative': 'Москва Ломоносовский', \n",
    "    'genitive': ['Москвы Ломоносовского', 'Москвы Ломоносовскего', 'Москви Ломоносовского', 'Москви Ломоносовскего'], \n",
    "    'dative': ['Москве Ломоносовскому', 'Москве Ломоносовскему'], \n",
    "    'accusative': ['Москву Ломоносовского', 'Москву Ломоносовскего', 'Москву Ломоносовской', 'Москву Ломоносовскый', 'Москву Ломоносовский'], \n",
    "    'instrumental': ['Москвой Ломоносовскым', 'Москвой Ломоносовским'], \n",
    "    'prepositional': ['Москве Ломоносовском', 'Москве Ломоносовскем']\n",
    "}\n",
    "```"
   ]
  },
  {
   "cell_type": "code",
   "execution_count": 82,
   "metadata": {},
   "outputs": [
    {
     "data": {
      "text/plain": [
       "['collaborativly', ' learn fast', ' fail fast']"
      ]
     },
     "execution_count": 82,
     "metadata": {},
     "output_type": "execute_result"
    }
   ],
   "source": [
    "\"collaboratively, learn fast, fail fast\".split(\",\")"
   ]
  },
  {
   "cell_type": "code",
   "execution_count": 126,
   "metadata": {},
   "outputs": [],
   "source": [
    "topodictionary = {\n",
    "    \"_default\": {\n",
    "        \"nominative\": [[\"\"], 0],\n",
    "        \"genitive\": [[\"\"], 0]\n",
    "    },\n",
    "    \n",
    "    \"i\": {\n",
    "        \"nominative\": [[\"\"], 0],\n",
    "        \"genitive\": [[\"o\"], 1]\n",
    "    },\n",
    "    \"o\": {\n",
    "        \"nominative\": [[\"\"], 0],\n",
    "        \"genitive\": [[\"a\"], 1]\n",
    "    },\n",
    "    \"ti\": {\n",
    "        \"nominative\": [[\"\"], 0],\n",
    "        \"genitive\": [[\"o\"], 1]\n",
    "    },\n",
    "    \"esti\": {\n",
    "        \"nominative\": [[\"\"], 0],\n",
    "        \"genitive\": [[\"o\", \"a\"], 1],\n",
    "    }\n",
    "}"
   ]
  },
  {
   "cell_type": "code",
   "execution_count": 6,
   "metadata": {},
   "outputs": [
    {
     "name": "stderr",
     "output_type": "stream",
     "text": [
      "INFO:toponym.topodict:Topodictionary loaded for polish\n"
     ]
    },
    {
     "data": {
      "text/plain": [
       "{'nominative': ['Berlina'],\n",
       " 'genitive': ['Berliien', 'Berliny', 'Berlinej'],\n",
       " 'dative': ['Berlinom', 'Berlinej', 'Berlinie'],\n",
       " 'accusative': ['Berli', 'Berliną', 'Berlinę'],\n",
       " 'instrumental': ['Berlinami', 'Berliną'],\n",
       " 'locative': ['Berlinach', 'Berlinej', 'Berlinie']}"
      ]
     },
     "execution_count": 6,
     "metadata": {},
     "output_type": "execute_result"
    }
   ],
   "source": [
    "\n",
    "td = topodict.Topodict(language='polish')\n",
    "td.load()\n",
    "tp = toponym.Toponym(\"Berlina\", td)\n",
    "tp.build()\n",
    "tp.topo"
   ]
  },
  {
   "cell_type": "code",
   "execution_count": 146,
   "metadata": {},
   "outputs": [
    {
     "data": {
      "text/plain": [
       "['Москву Ломоносовский',\n",
       " 'Москву Ломоносовской',\n",
       " 'Москве Ломоносовском',\n",
       " 'Москви Ломоносовскего',\n",
       " 'Москве Ломоносовскем',\n",
       " 'Москву Ломоносовскый',\n",
       " 'Москвы Ломоносовскего',\n",
       " 'Москви Ломоносовского',\n",
       " 'Москву Ломоносовскего',\n",
       " 'Москвы Ломоносовского',\n",
       " 'Москвой Ломоносовскым',\n",
       " 'Москву Ломоносовского',\n",
       " 'Москвой Ломоносовским',\n",
       " 'Москве Ломоносовскему',\n",
       " 'Москве Ломоносовскому',\n",
       " 'Москва Ломоносовский']"
      ]
     },
     "execution_count": 146,
     "metadata": {},
     "output_type": "execute_result"
    }
   ],
   "source": [
    "tp.list_toponyms()"
   ]
  },
  {
   "cell_type": "code",
   "execution_count": 140,
   "metadata": {},
   "outputs": [
    {
     "data": {
      "text/plain": [
       "{'Москва', 'Москве', 'Москви', 'Москвой', 'Москву', 'Москвы'}"
      ]
     },
     "execution_count": 140,
     "metadata": {},
     "output_type": "execute_result"
    }
   ],
   "source": [
    "list(map(tp.topo.__getitem__, tp.topo.keys()))\n",
    "\n",
    "set([item for sublist in list(map(tp.topo.__getitem__, tp.topo.keys())) for item in sublist])"
   ]
  },
  {
   "cell_type": "code",
   "execution_count": 95,
   "metadata": {},
   "outputs": [
    {
     "data": {
      "text/plain": [
       "True"
      ]
     },
     "execution_count": 95,
     "metadata": {},
     "output_type": "execute_result"
    }
   ],
   "source": [
    "any([word in \"В Москве с начала года отремонтировали 3 тысячи подъездов\" for word in [\"Москва\", \"Москве\"]])\n",
    "\n",
    "text = \"В Москве с начала года отремонтировали 3 тысячи подъездов\""
   ]
  },
  {
   "cell_type": "code",
   "execution_count": 132,
   "metadata": {},
   "outputs": [
    {
     "name": "stderr",
     "output_type": "stream",
     "text": [
      "INFO:toponym.topodict:Topodictionary loaded from dictionary for language test\n",
      "WARNING:toponym.topodict:No word_ending found. Using _default\n"
     ]
    },
    {
     "data": {
      "text/plain": [
       "{'nominative': ['Testa'], 'genitive': ['Testa']}"
      ]
     },
     "execution_count": 132,
     "metadata": {},
     "output_type": "execute_result"
    }
   ],
   "source": [
    "word = \"Testa\"\n",
    "\n",
    "td = topodict.Topodict(language=\"test\", file=topodictionary)\n",
    "td.load()\n",
    "tn = toponym.Toponym(word, td)\n",
    "tn.build()\n",
    "tn.topo"
   ]
  },
  {
   "cell_type": "code",
   "execution_count": 122,
   "metadata": {},
   "outputs": [
    {
     "data": {
      "text/plain": [
       "False"
      ]
     },
     "execution_count": 122,
     "metadata": {},
     "output_type": "execute_result"
    }
   ],
   "source": [
    "td._loaded"
   ]
  },
  {
   "cell_type": "code",
   "execution_count": 96,
   "metadata": {},
   "outputs": [
    {
     "data": {
      "text/plain": [
       "defaultdict(list, {'nominative': 'Testa Tesi', 'genitive': 'Testa Teso'})"
      ]
     },
     "execution_count": 96,
     "metadata": {},
     "output_type": "execute_result"
    }
   ],
   "source": [
    "tp.topo"
   ]
  },
  {
   "cell_type": "code",
   "execution_count": 76,
   "metadata": {},
   "outputs": [
    {
     "data": {
      "text/plain": [
       "'/Users/iwpnd/Projects'"
      ]
     },
     "execution_count": 76,
     "metadata": {},
     "output_type": "execute_result"
    }
   ],
   "source": [
    "path = '/Users/iwpnd/Projects/'\n",
    "\n",
    "os.chdir(path)\n",
    "os.getcwd()"
   ]
  },
  {
   "cell_type": "code",
   "execution_count": 78,
   "metadata": {},
   "outputs": [],
   "source": [
    "# make sure that case[0] is type list\n",
    "\n",
    "with open(settings.PARENT_DIRECTORY+\"/resources/pl.json\", \"r\", encoding=\"utf8\") as f:\n",
    "    js = json.loads(f.read())\n",
    "    \n",
    "for ending in js:\n",
    "    for case in js[ending]:\n",
    "        if not isinstance(js[ending][case][0], list):\n",
    "            js[ending][case][0] = [js[ending][case][0]]\n",
    "            \n",
    "with open(settings.PARENT_DIRECTORY+\"/resources/pl.json\", \"w\", encoding=\"utf8\") as outfile:\n",
    "    json.dump(js, outfile, ensure_ascii=False)"
   ]
  },
  {
   "cell_type": "code",
   "execution_count": 73,
   "metadata": {},
   "outputs": [],
   "source": [
    "list_dir = os.listdir(settings.PARENT_DIRECTORY+\"/resources\")\n",
    "filepaths = [settings.PARENT_DIRECTORY+\"/resources\"+f\"/{x}\" for x in list_dir if x.endswith(\".json\")]\n",
    "\n",
    "def _is_consistent_topodict(filepath):\n",
    "    with open(filepath, \"r\") as f:\n",
    "        topodict_check = json.loads(f.read())\n",
    "\n",
    "    topodict_consistent = list()\n",
    "\n",
    "    for ending in topodict_check:\n",
    "        for case in topodict_check[ending]:\n",
    "            if isinstance(topodict_check[ending][case][0], list):\n",
    "                topodict_consistent.append(True)\n",
    "            else:\n",
    "                print(ending, case)\n",
    "                topodict_consistent.append(False)\n",
    "\n",
    "    if all([x for x in topodict_consistent]):\n",
    "        return True\n",
    "    else:\n",
    "        return False"
   ]
  },
  {
   "cell_type": "code",
   "execution_count": 74,
   "metadata": {},
   "outputs": [
    {
     "data": {
      "text/plain": [
       "['/Users/iwpnd/Projects/pypy/toponym/toponym/resources/hu.json',\n",
       " '/Users/iwpnd/Projects/pypy/toponym/toponym/resources/ru.json',\n",
       " '/Users/iwpnd/Projects/pypy/toponym/toponym/resources/pl.json',\n",
       " '/Users/iwpnd/Projects/pypy/toponym/toponym/resources/uk.json',\n",
       " '/Users/iwpnd/Projects/pypy/toponym/toponym/resources/hr.json',\n",
       " '/Users/iwpnd/Projects/pypy/toponym/toponym/resources/_test.json',\n",
       " '/Users/iwpnd/Projects/pypy/toponym/toponym/resources/el.json',\n",
       " '/Users/iwpnd/Projects/pypy/toponym/toponym/resources/ro.json',\n",
       " '/Users/iwpnd/Projects/pypy/toponym/toponym/resources/lv.json']"
      ]
     },
     "execution_count": 74,
     "metadata": {},
     "output_type": "execute_result"
    }
   ],
   "source": [
    "filepaths"
   ]
  },
  {
   "cell_type": "code",
   "execution_count": 77,
   "metadata": {},
   "outputs": [
    {
     "name": "stdout",
     "output_type": "stream",
     "text": [
      "/Users/iwpnd/Projects/pypy/toponym/toponym/resources/hu.json \n",
      " True\n",
      "/Users/iwpnd/Projects/pypy/toponym/toponym/resources/ru.json \n",
      " True\n",
      "/Users/iwpnd/Projects/pypy/toponym/toponym/resources/pl.json \n",
      " True\n",
      "/Users/iwpnd/Projects/pypy/toponym/toponym/resources/uk.json \n",
      " True\n",
      "/Users/iwpnd/Projects/pypy/toponym/toponym/resources/hr.json \n",
      " True\n",
      "/Users/iwpnd/Projects/pypy/toponym/toponym/resources/_test.json \n",
      " True\n",
      "/Users/iwpnd/Projects/pypy/toponym/toponym/resources/el.json \n",
      " True\n",
      "/Users/iwpnd/Projects/pypy/toponym/toponym/resources/ro.json \n",
      " True\n",
      "/Users/iwpnd/Projects/pypy/toponym/toponym/resources/lv.json \n",
      " True\n"
     ]
    }
   ],
   "source": [
    "for fp in filepaths:\n",
    "    print(fp, \"\\n\", _is_consistent_topodict(fp))\n"
   ]
  },
  {
   "cell_type": "code",
   "execution_count": 79,
   "metadata": {},
   "outputs": [
    {
     "name": "stdout",
     "output_type": "stream",
     "text": [
      "\n",
      "Your available languages are:\n",
      "\n",
      "full name\t\tiso code\n",
      "  croatian\t\thr\n",
      "  russian\t\tru\n",
      "  ukrainian\t\tuk\n",
      "  romanian\t\tro\n",
      "  latvian\t\tlv\n",
      "  hungarian\t\thu\n",
      "  greek\t\tel\n",
      "  polish\t\tpl\n",
      "\n"
     ]
    }
   ],
   "source": [
    "utils.print_available_languages()"
   ]
  }
 ],
 "metadata": {
  "kernelspec": {
   "display_name": "Python 3",
   "language": "python",
   "name": "python3"
  },
  "language_info": {
   "codemirror_mode": {
    "name": "ipython",
    "version": 3
   },
   "file_extension": ".py",
   "mimetype": "text/x-python",
   "name": "python",
   "nbconvert_exporter": "python",
   "pygments_lexer": "ipython3",
   "version": "3.6.9"
  }
 },
 "nbformat": 4,
 "nbformat_minor": 4
}
